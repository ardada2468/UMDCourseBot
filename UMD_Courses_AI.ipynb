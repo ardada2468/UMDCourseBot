{
 "cells": [
  {
   "cell_type": "markdown",
   "metadata": {
    "collapsed": false,
    "jupyter": {
     "outputs_hidden": false
    }
   },
   "source": [
    "Importing Required Packages"
   ]
  },
  {
   "cell_type": "code",
   "execution_count": 86,
   "metadata": {
    "collapsed": true,
    "jupyter": {
     "outputs_hidden": true
    },
    "ExecuteTime": {
     "end_time": "2023-10-23T23:38:39.531322Z",
     "start_time": "2023-10-23T23:38:39.519802Z"
    }
   },
   "outputs": [],
   "source": [
    "import os.path\n",
    "import os\n",
    "\n",
    "from langchain.document_loaders import UnstructuredPDFLoader, WebBaseLoader, AsyncChromiumLoader\n",
    "from langchain.text_splitter import RecursiveCharacterTextSplitter\n",
    "from langchain.embeddings import OpenAIEmbeddings\n",
    "from langchain.vectorstores import Chroma\n",
    "from langchain.chat_models import ChatOpenAI\n",
    "from langchain import hub\n",
    "from langchain.schema.runnable import RunnablePassthrough\n",
    "import pickle\n"
   ]
  },
  {
   "cell_type": "code",
   "execution_count": 56,
   "metadata": {
    "collapsed": false,
    "jupyter": {
     "outputs_hidden": false
    },
    "ExecuteTime": {
     "end_time": "2023-10-23T23:15:45.231205700Z",
     "start_time": "2023-10-23T23:15:45.213997100Z"
    }
   },
   "outputs": [],
   "source": [
    "#Constant KEY Variable (Use env in production)\n",
    "#Go to https://platform.openai.com/account/api-keys to create a new API key\n",
    "KEY = \"\";"
   ]
  },
  {
   "cell_type": "code",
   "execution_count": 70,
   "metadata": {
    "collapsed": false,
    "jupyter": {
     "outputs_hidden": false
    },
    "ExecuteTime": {
     "end_time": "2023-10-23T23:27:54.461968300Z",
     "start_time": "2023-10-23T23:27:54.444961600Z"
    }
   },
   "outputs": [],
   "source": [
    "llm = ChatOpenAI(temperature=0, model=\"gpt-3.5-turbo\", openai_api_key=KEY)"
   ]
  },
  {
   "cell_type": "code",
   "execution_count": 72,
   "outputs": [
    {
     "name": "stdout",
     "output_type": "stream",
     "text": [
      "['https://academiccatalog.umd.edu/undergraduate/approved-courses/aasp/', 'https://academiccatalog.umd.edu/undergraduate/approved-courses/aast/', 'https://academiccatalog.umd.edu/undergraduate/approved-courses/abrm/', 'https://academiccatalog.umd.edu/undergraduate/approved-courses/agnr/', 'https://academiccatalog.umd.edu/undergraduate/approved-courses/agst/', 'https://academiccatalog.umd.edu/undergraduate/approved-courses/amsc/', 'https://academiccatalog.umd.edu/undergraduate/approved-courses/amst/', 'https://academiccatalog.umd.edu/undergraduate/approved-courses/ansc/', 'https://academiccatalog.umd.edu/undergraduate/approved-courses/anth/', 'https://academiccatalog.umd.edu/undergraduate/approved-courses/aosc/', 'https://academiccatalog.umd.edu/undergraduate/approved-courses/arab/', 'https://academiccatalog.umd.edu/undergraduate/approved-courses/arch/', 'https://academiccatalog.umd.edu/undergraduate/approved-courses/arec/', 'https://academiccatalog.umd.edu/undergraduate/approved-courses/arhu/', 'https://academiccatalog.umd.edu/undergraduate/approved-courses/arhx/', 'https://academiccatalog.umd.edu/undergraduate/approved-courses/army/', 'https://academiccatalog.umd.edu/undergraduate/approved-courses/arsc/', 'https://academiccatalog.umd.edu/undergraduate/approved-courses/arth/', 'https://academiccatalog.umd.edu/undergraduate/approved-courses/artt/', 'https://academiccatalog.umd.edu/undergraduate/approved-courses/artx/', 'https://academiccatalog.umd.edu/undergraduate/approved-courses/arux/', 'https://academiccatalog.umd.edu/undergraduate/approved-courses/astr/', 'https://academiccatalog.umd.edu/undergraduate/approved-courses/bchm/', 'https://academiccatalog.umd.edu/undergraduate/approved-courses/bioe/', 'https://academiccatalog.umd.edu/undergraduate/approved-courses/biom/', 'https://academiccatalog.umd.edu/undergraduate/approved-courses/bmgt/', 'https://academiccatalog.umd.edu/undergraduate/approved-courses/bsci/', 'https://academiccatalog.umd.edu/undergraduate/approved-courses/bscv/', 'https://academiccatalog.umd.edu/undergraduate/approved-courses/bsgc/', 'https://academiccatalog.umd.edu/undergraduate/approved-courses/bsos/', 'https://academiccatalog.umd.edu/undergraduate/approved-courses/bsst/', 'https://academiccatalog.umd.edu/undergraduate/approved-courses/ccjs/', 'https://academiccatalog.umd.edu/undergraduate/approved-courses/chbe/', 'https://academiccatalog.umd.edu/undergraduate/approved-courses/chem/', 'https://academiccatalog.umd.edu/undergraduate/approved-courses/chin/', 'https://academiccatalog.umd.edu/undergraduate/approved-courses/chse/', 'https://academiccatalog.umd.edu/undergraduate/approved-courses/cine/', 'https://academiccatalog.umd.edu/undergraduate/approved-courses/cinx/', 'https://academiccatalog.umd.edu/undergraduate/approved-courses/clas/', 'https://academiccatalog.umd.edu/undergraduate/approved-courses/clax/', 'https://academiccatalog.umd.edu/undergraduate/approved-courses/cmlt/', 'https://academiccatalog.umd.edu/undergraduate/approved-courses/cmlx/', 'https://academiccatalog.umd.edu/undergraduate/approved-courses/cmsc/', 'https://academiccatalog.umd.edu/undergraduate/approved-courses/comm/', 'https://academiccatalog.umd.edu/undergraduate/approved-courses/comx/', 'https://academiccatalog.umd.edu/undergraduate/approved-courses/cpbe/', 'https://academiccatalog.umd.edu/undergraduate/approved-courses/cpet/', 'https://academiccatalog.umd.edu/undergraduate/approved-courses/cpgh/', 'https://academiccatalog.umd.edu/undergraduate/approved-courses/cpjt/', 'https://academiccatalog.umd.edu/undergraduate/approved-courses/cpms/', 'https://academiccatalog.umd.edu/undergraduate/approved-courses/cppl/', 'https://academiccatalog.umd.edu/undergraduate/approved-courses/cpsa/', 'https://academiccatalog.umd.edu/undergraduate/approved-courses/cpsd/', 'https://academiccatalog.umd.edu/undergraduate/approved-courses/cpsf/', 'https://academiccatalog.umd.edu/undergraduate/approved-courses/cpsg/', 'https://academiccatalog.umd.edu/undergraduate/approved-courses/cpsn/', 'https://academiccatalog.umd.edu/undergraduate/approved-courses/cpsp/', 'https://academiccatalog.umd.edu/undergraduate/approved-courses/cpss/', 'https://academiccatalog.umd.edu/undergraduate/approved-courses/eall/', 'https://academiccatalog.umd.edu/undergraduate/approved-courses/econ/', 'https://academiccatalog.umd.edu/undergraduate/approved-courses/edci/', 'https://academiccatalog.umd.edu/undergraduate/approved-courses/edcp/', 'https://academiccatalog.umd.edu/undergraduate/approved-courses/edhd/', 'https://academiccatalog.umd.edu/undergraduate/approved-courses/edhi/', 'https://academiccatalog.umd.edu/undergraduate/approved-courses/edms/', 'https://academiccatalog.umd.edu/undergraduate/approved-courses/edps/', 'https://academiccatalog.umd.edu/undergraduate/approved-courses/edsp/', 'https://academiccatalog.umd.edu/undergraduate/approved-courses/educ/', 'https://academiccatalog.umd.edu/undergraduate/approved-courses/enae/', 'https://academiccatalog.umd.edu/undergraduate/approved-courses/enbc/', 'https://academiccatalog.umd.edu/undergraduate/approved-courses/ence/', 'https://academiccatalog.umd.edu/undergraduate/approved-courses/eneb/', 'https://academiccatalog.umd.edu/undergraduate/approved-courses/enee/', 'https://academiccatalog.umd.edu/undergraduate/approved-courses/enes/', 'https://academiccatalog.umd.edu/undergraduate/approved-courses/enfp/', 'https://academiccatalog.umd.edu/undergraduate/approved-courses/engl/', 'https://academiccatalog.umd.edu/undergraduate/approved-courses/engx/', 'https://academiccatalog.umd.edu/undergraduate/approved-courses/enma/', 'https://academiccatalog.umd.edu/undergraduate/approved-courses/enme/', 'https://academiccatalog.umd.edu/undergraduate/approved-courses/ennu/', 'https://academiccatalog.umd.edu/undergraduate/approved-courses/enre/', 'https://academiccatalog.umd.edu/undergraduate/approved-courses/ensp/', 'https://academiccatalog.umd.edu/undergraduate/approved-courses/enst/', 'https://academiccatalog.umd.edu/undergraduate/approved-courses/epib/', 'https://academiccatalog.umd.edu/undergraduate/approved-courses/fgsm/', 'https://academiccatalog.umd.edu/undergraduate/approved-courses/fire/', 'https://academiccatalog.umd.edu/undergraduate/approved-courses/fmsc/', 'https://academiccatalog.umd.edu/undergraduate/approved-courses/fren/', 'https://academiccatalog.umd.edu/undergraduate/approved-courses/gems/', 'https://academiccatalog.umd.edu/undergraduate/approved-courses/geog/', 'https://academiccatalog.umd.edu/undergraduate/approved-courses/geol/', 'https://academiccatalog.umd.edu/undergraduate/approved-courses/germ/', 'https://academiccatalog.umd.edu/undergraduate/approved-courses/gers/', 'https://academiccatalog.umd.edu/undergraduate/approved-courses/grek/', 'https://academiccatalog.umd.edu/undergraduate/approved-courses/gvpt/', 'https://academiccatalog.umd.edu/undergraduate/approved-courses/hacs/', 'https://academiccatalog.umd.edu/undergraduate/approved-courses/hdcc/', 'https://academiccatalog.umd.edu/undergraduate/approved-courses/hebr/', 'https://academiccatalog.umd.edu/undergraduate/approved-courses/heip/', 'https://academiccatalog.umd.edu/undergraduate/approved-courses/hesi/', 'https://academiccatalog.umd.edu/undergraduate/approved-courses/hesp/', 'https://academiccatalog.umd.edu/undergraduate/approved-courses/hglo/', 'https://academiccatalog.umd.edu/undergraduate/approved-courses/hhum/', 'https://academiccatalog.umd.edu/undergraduate/approved-courses/hisp/', 'https://academiccatalog.umd.edu/undergraduate/approved-courses/hist/', 'https://academiccatalog.umd.edu/undergraduate/approved-courses/hisx/', 'https://academiccatalog.umd.edu/undergraduate/approved-courses/hlsa/', 'https://academiccatalog.umd.edu/undergraduate/approved-courses/hlsc/', 'https://academiccatalog.umd.edu/undergraduate/approved-courses/hlth/', 'https://academiccatalog.umd.edu/undergraduate/approved-courses/hnuh/', 'https://academiccatalog.umd.edu/undergraduate/approved-courses/honr/', 'https://academiccatalog.umd.edu/undergraduate/approved-courses/idea/', 'https://academiccatalog.umd.edu/undergraduate/approved-courses/imdm/', 'https://academiccatalog.umd.edu/undergraduate/approved-courses/immr/', 'https://academiccatalog.umd.edu/undergraduate/approved-courses/inag/', 'https://academiccatalog.umd.edu/undergraduate/approved-courses/inst/', 'https://academiccatalog.umd.edu/undergraduate/approved-courses/isrl/', 'https://academiccatalog.umd.edu/undergraduate/approved-courses/ital/', 'https://academiccatalog.umd.edu/undergraduate/approved-courses/itax/', 'https://academiccatalog.umd.edu/undergraduate/approved-courses/ivsp/', 'https://academiccatalog.umd.edu/undergraduate/approved-courses/japn/', 'https://academiccatalog.umd.edu/undergraduate/approved-courses/jour/', 'https://academiccatalog.umd.edu/undergraduate/approved-courses/jwst/', 'https://academiccatalog.umd.edu/undergraduate/approved-courses/knes/', 'https://academiccatalog.umd.edu/undergraduate/approved-courses/kora/', 'https://academiccatalog.umd.edu/undergraduate/approved-courses/lacs/', 'https://academiccatalog.umd.edu/undergraduate/approved-courses/larc/', 'https://academiccatalog.umd.edu/undergraduate/approved-courses/lasx/', 'https://academiccatalog.umd.edu/undergraduate/approved-courses/latn/', 'https://academiccatalog.umd.edu/undergraduate/approved-courses/lbsc/', 'https://academiccatalog.umd.edu/undergraduate/approved-courses/lead/', 'https://academiccatalog.umd.edu/undergraduate/approved-courses/lgbt/', 'https://academiccatalog.umd.edu/undergraduate/approved-courses/lgbx/', 'https://academiccatalog.umd.edu/undergraduate/approved-courses/ling/', 'https://academiccatalog.umd.edu/undergraduate/approved-courses/math/', 'https://academiccatalog.umd.edu/undergraduate/approved-courses/mees/', 'https://academiccatalog.umd.edu/undergraduate/approved-courses/mieh/', 'https://academiccatalog.umd.edu/undergraduate/approved-courses/mith/', 'https://academiccatalog.umd.edu/undergraduate/approved-courses/mlaw/', 'https://academiccatalog.umd.edu/undergraduate/approved-courses/mlsc/', 'https://academiccatalog.umd.edu/undergraduate/approved-courses/mued/', 'https://academiccatalog.umd.edu/undergraduate/approved-courses/muet/', 'https://academiccatalog.umd.edu/undergraduate/approved-courses/musc/', 'https://academiccatalog.umd.edu/undergraduate/approved-courses/musp/', 'https://academiccatalog.umd.edu/undergraduate/approved-courses/navy/', 'https://academiccatalog.umd.edu/undergraduate/approved-courses/neur/', 'https://academiccatalog.umd.edu/undergraduate/approved-courses/nfsc/', 'https://academiccatalog.umd.edu/undergraduate/approved-courses/peer/', 'https://academiccatalog.umd.edu/undergraduate/approved-courses/pers/', 'https://academiccatalog.umd.edu/undergraduate/approved-courses/phil/', 'https://academiccatalog.umd.edu/undergraduate/approved-courses/phix/', 'https://academiccatalog.umd.edu/undergraduate/approved-courses/phpe/', 'https://academiccatalog.umd.edu/undergraduate/approved-courses/phpx/', 'https://academiccatalog.umd.edu/undergraduate/approved-courses/phsc/', 'https://academiccatalog.umd.edu/undergraduate/approved-courses/phys/', 'https://academiccatalog.umd.edu/undergraduate/approved-courses/plcy/', 'https://academiccatalog.umd.edu/undergraduate/approved-courses/plsc/', 'https://academiccatalog.umd.edu/undergraduate/approved-courses/port/', 'https://academiccatalog.umd.edu/undergraduate/approved-courses/psyc/', 'https://academiccatalog.umd.edu/undergraduate/approved-courses/rdev/', 'https://academiccatalog.umd.edu/undergraduate/approved-courses/rels/', 'https://academiccatalog.umd.edu/undergraduate/approved-courses/russ/', 'https://academiccatalog.umd.edu/undergraduate/approved-courses/slaa/', 'https://academiccatalog.umd.edu/undergraduate/approved-courses/sllc/', 'https://academiccatalog.umd.edu/undergraduate/approved-courses/sllx/', 'https://academiccatalog.umd.edu/undergraduate/approved-courses/smlp/', 'https://academiccatalog.umd.edu/undergraduate/approved-courses/socy/', 'https://academiccatalog.umd.edu/undergraduate/approved-courses/span/', 'https://academiccatalog.umd.edu/undergraduate/approved-courses/spax/', 'https://academiccatalog.umd.edu/undergraduate/approved-courses/sphl/', 'https://academiccatalog.umd.edu/undergraduate/approved-courses/stat/', 'https://academiccatalog.umd.edu/undergraduate/approved-courses/surv/', 'https://academiccatalog.umd.edu/undergraduate/approved-courses/tdps/', 'https://academiccatalog.umd.edu/undergraduate/approved-courses/thet/', 'https://academiccatalog.umd.edu/undergraduate/approved-courses/thex/', 'https://academiccatalog.umd.edu/undergraduate/approved-courses/tlpl/', 'https://academiccatalog.umd.edu/undergraduate/approved-courses/tltc/', 'https://academiccatalog.umd.edu/undergraduate/approved-courses/umei/', 'https://academiccatalog.umd.edu/undergraduate/approved-courses/univ/', 'https://academiccatalog.umd.edu/undergraduate/approved-courses/ursp/', 'https://academiccatalog.umd.edu/undergraduate/approved-courses/uslt/', 'https://academiccatalog.umd.edu/undergraduate/approved-courses/weid/', 'https://academiccatalog.umd.edu/undergraduate/approved-courses/wgss/', 'https://academiccatalog.umd.edu/undergraduate/approved-courses/wmsx/', 'https://academiccatalog.umd.edu/undergraduate/approved-courses/cmsc/']\n"
     ]
    }
   ],
   "source": [
    "#Generate a list of the URLS (this is a partical list of depts\n",
    "codeList = [\n",
    "        \"aasp\", \"aast\", \"abrm\", \"agnr\", \"agst\", \"amsc\", \"amst\", \"ansc\", \"anth\", \"aosc\", \"arab\", \"arch\", \"arec\", \"arhu\", \"arhx\", \"army\", \"arsc\", \"arth\", \"artt\", \"artx\", \"arux\", \"astr\", \"bchm\", \"bioe\", \"biom\", \"bmgt\", \"bsci\", \"bscv\", \"bsgc\", \"bsos\", \"bsst\", \"ccjs\", \"chbe\", \"chem\", \"chin\", \"chse\", \"cine\", \"cinx\", \"clas\", \"clax\", \"cmlt\", \"cmlx\", \"cmsc\", \"comm\", \"comx\", \"cpbe\", \"cpet\", \"cpgh\", \"cpjt\", \"cpms\", \"cppl\", \"cpsa\", \"cpsd\", \"cpsf\", \"cpsg\", \"cpsn\", \"cpsp\", \"cpss\", \"eall\", \"econ\", \"edci\", \"edcp\", \"edhd\", \"edhi\", \"edms\", \"edps\", \"edsp\", \"educ\", \"enae\", \"enbc\", \"ence\", \"eneb\", \"enee\", \"enes\", \"enfp\", \"engl\", \"engx\", \"enma\", \"enme\", \"ennu\", \"enre\", \"ensp\", \"enst\", \"epib\", \"fgsm\", \"fire\", \"fmsc\", \"fren\", \"gems\", \"geog\", \"geol\", \"germ\", \"gers\", \"grek\", \"gvpt\", \"hacs\", \"hdcc\", \"hebr\", \"heip\", \"hesi\", \"hesp\", \"hglo\", \"hhum\", \"hisp\", \"hist\", \"hisx\", \"hlsa\", \"hlsc\", \"hlth\", \"hnuh\", \"honr\", \"idea\", \"imdm\", \"immr\", \"inag\", \"inst\", \"isrl\", \"ital\", \"itax\", \"ivsp\", \"japn\", \"jour\", \"jwst\", \"knes\", \"kora\", \"lacs\", \"larc\", \"lasx\", \"latn\", \"lbsc\", \"lead\", \"lgbt\", \"lgbx\", \"ling\", \"math\", \"mees\", \"mieh\", \"mith\", \"mlaw\", \"mlsc\", \"mued\", \"muet\", \"musc\", \"musp\", \"navy\", \"neur\", \"nfsc\", \"peer\", \"pers\", \"phil\", \"phix\", \"phpe\", \"phpx\", \"phsc\", \"phys\", \"plcy\", \"plsc\", \"port\", \"psyc\", \"rdev\", \"rels\", \"russ\", \"slaa\", \"sllc\", \"sllx\", \"smlp\", \"socy\", \"span\", \"spax\", \"sphl\", \"stat\", \"surv\", \"tdps\", \"thet\", \"thex\", \"tlpl\", \"tltc\", \"umei\", \"univ\", \"ursp\", \"uslt\", \"weid\", \"wgss\", \"wmsx\"\n",
    "]\n",
    "codeList.append(\"cmsc\")\n",
    "baseURL = \"https://academiccatalog.umd.edu/undergraduate/approved-courses/\"\n",
    "urlList = []\n",
    "for dept in codeList:\n",
    "        urlList.append(baseURL+dept+\"/\")\n",
    "print(urlList)"
   ],
   "metadata": {
    "collapsed": false,
    "ExecuteTime": {
     "end_time": "2023-10-23T23:27:59.308051Z",
     "start_time": "2023-10-23T23:27:59.292393400Z"
    }
   }
  },
  {
   "cell_type": "code",
   "execution_count": 88,
   "outputs": [],
   "source": [
    "PickleFilePath = \"all_splits.p\""
   ],
   "metadata": {
    "collapsed": false,
    "ExecuteTime": {
     "end_time": "2023-10-23T23:38:46.509965Z",
     "start_time": "2023-10-23T23:38:46.498840200Z"
    }
   }
  },
  {
   "cell_type": "code",
   "execution_count": 92,
   "outputs": [
    {
     "name": "stdout",
     "output_type": "stream",
     "text": [
      "Loading data from pickle file\n",
      "loaded data\n"
     ]
    }
   ],
   "source": [
    "#Scraping and Loading Data\n",
    "if os.path.exists(PickleFilePath):\n",
    "        print(\"Loading data from pickle file\")\n",
    "        all_splits = pickle.load( open( PickleFilePath, \"rb\" ) )\n",
    "        print(\"loaded data\")\n",
    "else:\n",
    "        loader = WebBaseLoader(web_paths=urlList)\n",
    "        data = loader.load();\n",
    "        print(data)"
   ],
   "metadata": {
    "collapsed": false,
    "ExecuteTime": {
     "end_time": "2023-10-23T23:39:29.484784Z",
     "start_time": "2023-10-23T23:39:29.346052400Z"
    }
   }
  },
  {
   "cell_type": "code",
   "execution_count": 93,
   "outputs": [],
   "source": [
    "if os.path.exists(PickleFilePath) == False:\n",
    "        text_splitter = RecursiveCharacterTextSplitter(chunk_size=500, chunk_overlap=0)\n",
    "        all_splits = text_splitter.split_documents(data)\n",
    "        pickle.dump(all_splits, open( \"all_splits.p\", \"wb\" ) )"
   ],
   "metadata": {
    "collapsed": false,
    "ExecuteTime": {
     "end_time": "2023-10-23T23:39:52.308711300Z",
     "start_time": "2023-10-23T23:39:52.279945600Z"
    }
   }
  },
  {
   "cell_type": "code",
   "execution_count": 77,
   "outputs": [],
   "source": [],
   "metadata": {
    "collapsed": false,
    "ExecuteTime": {
     "end_time": "2023-10-23T23:33:52.975425100Z",
     "start_time": "2023-10-23T23:33:52.852687400Z"
    }
   }
  },
  {
   "cell_type": "code",
   "execution_count": null,
   "outputs": [],
   "source": [],
   "metadata": {
    "collapsed": false
   }
  },
  {
   "cell_type": "markdown",
   "source": [
    "Using vectorstore to store all of our docs"
   ],
   "metadata": {
    "collapsed": false
   }
  },
  {
   "cell_type": "code",
   "execution_count": 94,
   "outputs": [
    {
     "name": "stdout",
     "output_type": "stream",
     "text": [
      "tags=['Chroma', 'OpenAIEmbeddings'] vectorstore=<langchain.vectorstores.chroma.Chroma object at 0x00000172E648EF90>\n"
     ]
    }
   ],
   "source": [
    "vectorstore = Chroma.from_documents(documents=all_splits, embedding=OpenAIEmbeddings(openai_api_key=KEY))\n",
    "retriever = vectorstore.as_retriever()\n",
    "# print(retriever)"
   ],
   "metadata": {
    "collapsed": false,
    "ExecuteTime": {
     "end_time": "2023-10-23T23:41:23.447583800Z",
     "start_time": "2023-10-23T23:40:16.549093500Z"
    }
   }
  },
  {
   "cell_type": "code",
   "execution_count": 99,
   "outputs": [
    {
     "name": "stdout",
     "output_type": "stream",
     "text": [
      "<class 'langchain.prompts.chat.ChatPromptTemplate'>\n",
      "input_variables=['context', 'question'] messages=[HumanMessagePromptTemplate(prompt=PromptTemplate(input_variables=['context', 'question'], template=\"You are an assistant for question-answering tasks. Use the following pieces of retrieved context to answer the question. If you don't know the answer, just say that you don't know. Use three sentences maximum and keep the answer concise.\\nQuestion: {question} \\nContext: {context} \\nAnswer:\"))]\n"
     ]
    }
   ],
   "source": [
    "#This is the prompt we give to OpenAI everytime we ask it a question\n",
    "rag_prompt = hub.pull(\"rlm/rag-prompt\")\n",
    "print(type(rag_prompt))\n",
    "print(rag_prompt)"
   ],
   "metadata": {
    "collapsed": false,
    "ExecuteTime": {
     "end_time": "2023-10-23T23:42:42.124672900Z",
     "start_time": "2023-10-23T23:42:41.282403900Z"
    }
   }
  },
  {
   "cell_type": "code",
   "execution_count": 96,
   "outputs": [],
   "source": [
    "rag_chain = (\n",
    "                {\"context\": retriever, \"question\": RunnablePassthrough()}\n",
    "                | rag_prompt\n",
    "                | llm\n",
    "        )"
   ],
   "metadata": {
    "collapsed": false,
    "ExecuteTime": {
     "end_time": "2023-10-23T23:41:43.235618500Z",
     "start_time": "2023-10-23T23:41:43.225656700Z"
    }
   }
  },
  {
   "cell_type": "code",
   "execution_count": 63,
   "outputs": [],
   "source": [],
   "metadata": {
    "collapsed": false,
    "ExecuteTime": {
     "end_time": "2023-10-23T23:16:41.718463300Z",
     "start_time": "2023-10-23T23:16:41.715749Z"
    }
   }
  },
  {
   "cell_type": "code",
   "execution_count": 101,
   "outputs": [
    {
     "name": "stdout",
     "output_type": "stream",
     "text": [
      "content='ENES - Engineering Science, SMLP470 Fundamentals of Entrepreneurial Ventures, and BUSI712 Entrepreneurship and New Ventures are courses that will teach you about opening a startup.'\n"
     ]
    }
   ],
   "source": [
    "#It will be to awnser most general questions but nothing too complext. Here are a list of sample questions\n",
    "Question = \"What courses will teach me about opening a startup?\"\n",
    "awns = rag_chain.invoke(Question)\n",
    "print(awns)"
   ],
   "metadata": {
    "collapsed": false,
    "ExecuteTime": {
     "end_time": "2023-10-23T23:43:18.591275300Z",
     "start_time": "2023-10-23T23:43:15.721401600Z"
    }
   }
  },
  {
   "cell_type": "code",
   "execution_count": 64,
   "outputs": [],
   "source": [],
   "metadata": {
    "collapsed": false,
    "ExecuteTime": {
     "end_time": "2023-10-23T23:16:45.155641300Z",
     "start_time": "2023-10-23T23:16:45.151722700Z"
    }
   }
  }
 ],
 "metadata": {
  "kernelspec": {
   "display_name": "Python 3 (ipykernel)",
   "language": "python",
   "name": "python3"
  },
  "language_info": {
   "codemirror_mode": {
    "name": "ipython",
    "version": 3
   },
   "file_extension": ".py",
   "mimetype": "text/x-python",
   "name": "python",
   "nbconvert_exporter": "python",
   "pygments_lexer": "ipython3",
   "version": "3.11.6"
  }
 },
 "nbformat": 4,
 "nbformat_minor": 4
}
