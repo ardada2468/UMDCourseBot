{
 "cells": [
  {
   "cell_type": "markdown",
   "metadata": {
    "collapsed": false,
    "jupyter": {
     "outputs_hidden": false
    }
   },
   "source": [
    "Importing Required Packages"
   ]
  },
  {
   "cell_type": "code",
   "execution_count": 105,
   "metadata": {
    "collapsed": true,
    "jupyter": {
     "outputs_hidden": true
    },
    "ExecuteTime": {
     "end_time": "2023-10-24T00:48:33.615306400Z",
     "start_time": "2023-10-24T00:48:33.548800600Z"
    }
   },
   "outputs": [],
   "source": [
    "import os.path\n",
    "import os\n",
    "\n",
    "from langchain.document_loaders import UnstructuredPDFLoader, WebBaseLoader, AsyncChromiumLoader\n",
    "from langchain.text_splitter import RecursiveCharacterTextSplitter\n",
    "from langchain.embeddings import OpenAIEmbeddings\n",
    "from langchain.vectorstores import Chroma\n",
    "from langchain.chat_models import ChatOpenAI\n",
    "from langchain import hub\n",
    "from langchain.schema.runnable import RunnablePassthrough\n",
    "import pickle\n"
   ]
  },
  {
   "cell_type": "code",
   "execution_count": 106,
   "metadata": {
    "collapsed": false,
    "jupyter": {
     "outputs_hidden": false
    },
    "ExecuteTime": {
     "end_time": "2023-10-24T00:48:33.656789800Z",
     "start_time": "2023-10-24T00:48:33.553796400Z"
    }
   },
   "outputs": [],
   "source": [
    "#Constant KEY Variable (Use env in production)\n",
    "#Go to https://platform.openai.com/account/api-keys to create a new API key\n",
    "KEY = \"\";"
   ]
  },
  {
   "cell_type": "code",
   "execution_count": 107,
   "metadata": {
    "collapsed": false,
    "jupyter": {
     "outputs_hidden": false
    },
    "ExecuteTime": {
     "end_time": "2023-10-24T00:48:33.656789800Z",
     "start_time": "2023-10-24T00:48:33.573198500Z"
    }
   },
   "outputs": [],
   "source": [
    "llm = ChatOpenAI(temperature=0, model=\"gpt-3.5-turbo\", openai_api_key=KEY)"
   ]
  },
  {
   "cell_type": "code",
   "execution_count": 108,
   "outputs": [
    {
     "name": "stdout",
     "output_type": "stream",
     "text": [
      "['https://academiccatalog.umd.edu/undergraduate/approved-courses/aasp/', 'https://academiccatalog.umd.edu/undergraduate/approved-courses/aast/', 'https://academiccatalog.umd.edu/undergraduate/approved-courses/abrm/', 'https://academiccatalog.umd.edu/undergraduate/approved-courses/agnr/', 'https://academiccatalog.umd.edu/undergraduate/approved-courses/agst/', 'https://academiccatalog.umd.edu/undergraduate/approved-courses/amsc/', 'https://academiccatalog.umd.edu/undergraduate/approved-courses/amst/', 'https://academiccatalog.umd.edu/undergraduate/approved-courses/ansc/', 'https://academiccatalog.umd.edu/undergraduate/approved-courses/anth/', 'https://academiccatalog.umd.edu/undergraduate/approved-courses/aosc/', 'https://academiccatalog.umd.edu/undergraduate/approved-courses/arab/', 'https://academiccatalog.umd.edu/undergraduate/approved-courses/arch/', 'https://academiccatalog.umd.edu/undergraduate/approved-courses/arec/', 'https://academiccatalog.umd.edu/undergraduate/approved-courses/arhu/', 'https://academiccatalog.umd.edu/undergraduate/approved-courses/arhx/', 'https://academiccatalog.umd.edu/undergraduate/approved-courses/army/', 'https://academiccatalog.umd.edu/undergraduate/approved-courses/arsc/', 'https://academiccatalog.umd.edu/undergraduate/approved-courses/arth/', 'https://academiccatalog.umd.edu/undergraduate/approved-courses/artt/', 'https://academiccatalog.umd.edu/undergraduate/approved-courses/artx/', 'https://academiccatalog.umd.edu/undergraduate/approved-courses/arux/', 'https://academiccatalog.umd.edu/undergraduate/approved-courses/astr/', 'https://academiccatalog.umd.edu/undergraduate/approved-courses/bchm/', 'https://academiccatalog.umd.edu/undergraduate/approved-courses/bioe/', 'https://academiccatalog.umd.edu/undergraduate/approved-courses/biom/', 'https://academiccatalog.umd.edu/undergraduate/approved-courses/bmgt/', 'https://academiccatalog.umd.edu/undergraduate/approved-courses/bsci/', 'https://academiccatalog.umd.edu/undergraduate/approved-courses/bscv/', 'https://academiccatalog.umd.edu/undergraduate/approved-courses/bsgc/', 'https://academiccatalog.umd.edu/undergraduate/approved-courses/bsos/', 'https://academiccatalog.umd.edu/undergraduate/approved-courses/bsst/', 'https://academiccatalog.umd.edu/undergraduate/approved-courses/ccjs/', 'https://academiccatalog.umd.edu/undergraduate/approved-courses/chbe/', 'https://academiccatalog.umd.edu/undergraduate/approved-courses/chem/', 'https://academiccatalog.umd.edu/undergraduate/approved-courses/chin/', 'https://academiccatalog.umd.edu/undergraduate/approved-courses/chse/', 'https://academiccatalog.umd.edu/undergraduate/approved-courses/cine/', 'https://academiccatalog.umd.edu/undergraduate/approved-courses/cinx/', 'https://academiccatalog.umd.edu/undergraduate/approved-courses/clas/', 'https://academiccatalog.umd.edu/undergraduate/approved-courses/clax/', 'https://academiccatalog.umd.edu/undergraduate/approved-courses/cmlt/', 'https://academiccatalog.umd.edu/undergraduate/approved-courses/cmlx/', 'https://academiccatalog.umd.edu/undergraduate/approved-courses/cmsc/', 'https://academiccatalog.umd.edu/undergraduate/approved-courses/comm/', 'https://academiccatalog.umd.edu/undergraduate/approved-courses/comx/', 'https://academiccatalog.umd.edu/undergraduate/approved-courses/cpbe/', 'https://academiccatalog.umd.edu/undergraduate/approved-courses/cpet/', 'https://academiccatalog.umd.edu/undergraduate/approved-courses/cpgh/', 'https://academiccatalog.umd.edu/undergraduate/approved-courses/cpjt/', 'https://academiccatalog.umd.edu/undergraduate/approved-courses/cpms/', 'https://academiccatalog.umd.edu/undergraduate/approved-courses/cppl/', 'https://academiccatalog.umd.edu/undergraduate/approved-courses/cpsa/', 'https://academiccatalog.umd.edu/undergraduate/approved-courses/cpsd/', 'https://academiccatalog.umd.edu/undergraduate/approved-courses/cpsf/', 'https://academiccatalog.umd.edu/undergraduate/approved-courses/cpsg/', 'https://academiccatalog.umd.edu/undergraduate/approved-courses/cpsn/', 'https://academiccatalog.umd.edu/undergraduate/approved-courses/cpsp/', 'https://academiccatalog.umd.edu/undergraduate/approved-courses/cpss/', 'https://academiccatalog.umd.edu/undergraduate/approved-courses/eall/', 'https://academiccatalog.umd.edu/undergraduate/approved-courses/econ/', 'https://academiccatalog.umd.edu/undergraduate/approved-courses/edci/', 'https://academiccatalog.umd.edu/undergraduate/approved-courses/edcp/', 'https://academiccatalog.umd.edu/undergraduate/approved-courses/edhd/', 'https://academiccatalog.umd.edu/undergraduate/approved-courses/edhi/', 'https://academiccatalog.umd.edu/undergraduate/approved-courses/edms/', 'https://academiccatalog.umd.edu/undergraduate/approved-courses/edps/', 'https://academiccatalog.umd.edu/undergraduate/approved-courses/edsp/', 'https://academiccatalog.umd.edu/undergraduate/approved-courses/educ/', 'https://academiccatalog.umd.edu/undergraduate/approved-courses/enae/', 'https://academiccatalog.umd.edu/undergraduate/approved-courses/enbc/', 'https://academiccatalog.umd.edu/undergraduate/approved-courses/ence/', 'https://academiccatalog.umd.edu/undergraduate/approved-courses/eneb/', 'https://academiccatalog.umd.edu/undergraduate/approved-courses/enee/', 'https://academiccatalog.umd.edu/undergraduate/approved-courses/enes/', 'https://academiccatalog.umd.edu/undergraduate/approved-courses/enfp/', 'https://academiccatalog.umd.edu/undergraduate/approved-courses/engl/', 'https://academiccatalog.umd.edu/undergraduate/approved-courses/engx/', 'https://academiccatalog.umd.edu/undergraduate/approved-courses/enma/', 'https://academiccatalog.umd.edu/undergraduate/approved-courses/enme/', 'https://academiccatalog.umd.edu/undergraduate/approved-courses/ennu/', 'https://academiccatalog.umd.edu/undergraduate/approved-courses/enre/', 'https://academiccatalog.umd.edu/undergraduate/approved-courses/ensp/', 'https://academiccatalog.umd.edu/undergraduate/approved-courses/enst/', 'https://academiccatalog.umd.edu/undergraduate/approved-courses/epib/', 'https://academiccatalog.umd.edu/undergraduate/approved-courses/fgsm/', 'https://academiccatalog.umd.edu/undergraduate/approved-courses/fire/', 'https://academiccatalog.umd.edu/undergraduate/approved-courses/fmsc/', 'https://academiccatalog.umd.edu/undergraduate/approved-courses/fren/', 'https://academiccatalog.umd.edu/undergraduate/approved-courses/gems/', 'https://academiccatalog.umd.edu/undergraduate/approved-courses/geog/', 'https://academiccatalog.umd.edu/undergraduate/approved-courses/geol/', 'https://academiccatalog.umd.edu/undergraduate/approved-courses/germ/', 'https://academiccatalog.umd.edu/undergraduate/approved-courses/gers/', 'https://academiccatalog.umd.edu/undergraduate/approved-courses/grek/', 'https://academiccatalog.umd.edu/undergraduate/approved-courses/gvpt/', 'https://academiccatalog.umd.edu/undergraduate/approved-courses/hacs/', 'https://academiccatalog.umd.edu/undergraduate/approved-courses/hdcc/', 'https://academiccatalog.umd.edu/undergraduate/approved-courses/hebr/', 'https://academiccatalog.umd.edu/undergraduate/approved-courses/heip/', 'https://academiccatalog.umd.edu/undergraduate/approved-courses/hesi/', 'https://academiccatalog.umd.edu/undergraduate/approved-courses/hesp/', 'https://academiccatalog.umd.edu/undergraduate/approved-courses/hglo/', 'https://academiccatalog.umd.edu/undergraduate/approved-courses/hhum/', 'https://academiccatalog.umd.edu/undergraduate/approved-courses/hisp/', 'https://academiccatalog.umd.edu/undergraduate/approved-courses/hist/', 'https://academiccatalog.umd.edu/undergraduate/approved-courses/hisx/', 'https://academiccatalog.umd.edu/undergraduate/approved-courses/hlsa/', 'https://academiccatalog.umd.edu/undergraduate/approved-courses/hlsc/', 'https://academiccatalog.umd.edu/undergraduate/approved-courses/hlth/', 'https://academiccatalog.umd.edu/undergraduate/approved-courses/hnuh/', 'https://academiccatalog.umd.edu/undergraduate/approved-courses/honr/', 'https://academiccatalog.umd.edu/undergraduate/approved-courses/idea/', 'https://academiccatalog.umd.edu/undergraduate/approved-courses/imdm/', 'https://academiccatalog.umd.edu/undergraduate/approved-courses/immr/', 'https://academiccatalog.umd.edu/undergraduate/approved-courses/inag/', 'https://academiccatalog.umd.edu/undergraduate/approved-courses/inst/', 'https://academiccatalog.umd.edu/undergraduate/approved-courses/isrl/', 'https://academiccatalog.umd.edu/undergraduate/approved-courses/ital/', 'https://academiccatalog.umd.edu/undergraduate/approved-courses/itax/', 'https://academiccatalog.umd.edu/undergraduate/approved-courses/ivsp/', 'https://academiccatalog.umd.edu/undergraduate/approved-courses/japn/', 'https://academiccatalog.umd.edu/undergraduate/approved-courses/jour/', 'https://academiccatalog.umd.edu/undergraduate/approved-courses/jwst/', 'https://academiccatalog.umd.edu/undergraduate/approved-courses/knes/', 'https://academiccatalog.umd.edu/undergraduate/approved-courses/kora/', 'https://academiccatalog.umd.edu/undergraduate/approved-courses/lacs/', 'https://academiccatalog.umd.edu/undergraduate/approved-courses/larc/', 'https://academiccatalog.umd.edu/undergraduate/approved-courses/lasx/', 'https://academiccatalog.umd.edu/undergraduate/approved-courses/latn/', 'https://academiccatalog.umd.edu/undergraduate/approved-courses/lbsc/', 'https://academiccatalog.umd.edu/undergraduate/approved-courses/lead/', 'https://academiccatalog.umd.edu/undergraduate/approved-courses/lgbt/', 'https://academiccatalog.umd.edu/undergraduate/approved-courses/lgbx/', 'https://academiccatalog.umd.edu/undergraduate/approved-courses/ling/', 'https://academiccatalog.umd.edu/undergraduate/approved-courses/math/', 'https://academiccatalog.umd.edu/undergraduate/approved-courses/mees/', 'https://academiccatalog.umd.edu/undergraduate/approved-courses/mieh/', 'https://academiccatalog.umd.edu/undergraduate/approved-courses/mith/', 'https://academiccatalog.umd.edu/undergraduate/approved-courses/mlaw/', 'https://academiccatalog.umd.edu/undergraduate/approved-courses/mlsc/', 'https://academiccatalog.umd.edu/undergraduate/approved-courses/mued/', 'https://academiccatalog.umd.edu/undergraduate/approved-courses/muet/', 'https://academiccatalog.umd.edu/undergraduate/approved-courses/musc/', 'https://academiccatalog.umd.edu/undergraduate/approved-courses/musp/', 'https://academiccatalog.umd.edu/undergraduate/approved-courses/navy/', 'https://academiccatalog.umd.edu/undergraduate/approved-courses/neur/', 'https://academiccatalog.umd.edu/undergraduate/approved-courses/nfsc/', 'https://academiccatalog.umd.edu/undergraduate/approved-courses/peer/', 'https://academiccatalog.umd.edu/undergraduate/approved-courses/pers/', 'https://academiccatalog.umd.edu/undergraduate/approved-courses/phil/', 'https://academiccatalog.umd.edu/undergraduate/approved-courses/phix/', 'https://academiccatalog.umd.edu/undergraduate/approved-courses/phpe/', 'https://academiccatalog.umd.edu/undergraduate/approved-courses/phpx/', 'https://academiccatalog.umd.edu/undergraduate/approved-courses/phsc/', 'https://academiccatalog.umd.edu/undergraduate/approved-courses/phys/', 'https://academiccatalog.umd.edu/undergraduate/approved-courses/plcy/', 'https://academiccatalog.umd.edu/undergraduate/approved-courses/plsc/', 'https://academiccatalog.umd.edu/undergraduate/approved-courses/port/', 'https://academiccatalog.umd.edu/undergraduate/approved-courses/psyc/', 'https://academiccatalog.umd.edu/undergraduate/approved-courses/rdev/', 'https://academiccatalog.umd.edu/undergraduate/approved-courses/rels/', 'https://academiccatalog.umd.edu/undergraduate/approved-courses/russ/', 'https://academiccatalog.umd.edu/undergraduate/approved-courses/slaa/', 'https://academiccatalog.umd.edu/undergraduate/approved-courses/sllc/', 'https://academiccatalog.umd.edu/undergraduate/approved-courses/sllx/', 'https://academiccatalog.umd.edu/undergraduate/approved-courses/smlp/', 'https://academiccatalog.umd.edu/undergraduate/approved-courses/socy/', 'https://academiccatalog.umd.edu/undergraduate/approved-courses/span/', 'https://academiccatalog.umd.edu/undergraduate/approved-courses/spax/', 'https://academiccatalog.umd.edu/undergraduate/approved-courses/sphl/', 'https://academiccatalog.umd.edu/undergraduate/approved-courses/stat/', 'https://academiccatalog.umd.edu/undergraduate/approved-courses/surv/', 'https://academiccatalog.umd.edu/undergraduate/approved-courses/tdps/', 'https://academiccatalog.umd.edu/undergraduate/approved-courses/thet/', 'https://academiccatalog.umd.edu/undergraduate/approved-courses/thex/', 'https://academiccatalog.umd.edu/undergraduate/approved-courses/tlpl/', 'https://academiccatalog.umd.edu/undergraduate/approved-courses/tltc/', 'https://academiccatalog.umd.edu/undergraduate/approved-courses/umei/', 'https://academiccatalog.umd.edu/undergraduate/approved-courses/univ/', 'https://academiccatalog.umd.edu/undergraduate/approved-courses/ursp/', 'https://academiccatalog.umd.edu/undergraduate/approved-courses/uslt/', 'https://academiccatalog.umd.edu/undergraduate/approved-courses/weid/', 'https://academiccatalog.umd.edu/undergraduate/approved-courses/wgss/', 'https://academiccatalog.umd.edu/undergraduate/approved-courses/wmsx/']\n"
     ]
    }
   ],
   "source": [
    "#Generate a list of the URLS (this is a partical list of depts\n",
    "codeList = [\n",
    "        \"aasp\", \"aast\", \"abrm\", \"agnr\", \"agst\", \"amsc\", \"amst\", \"ansc\", \"anth\", \"aosc\", \"arab\", \"arch\", \"arec\", \"arhu\", \"arhx\", \"army\", \"arsc\", \"arth\", \"artt\", \"artx\", \"arux\", \"astr\", \"bchm\", \"bioe\", \"biom\", \"bmgt\", \"bsci\", \"bscv\", \"bsgc\", \"bsos\", \"bsst\", \"ccjs\", \"chbe\", \"chem\", \"chin\", \"chse\", \"cine\", \"cinx\", \"clas\", \"clax\", \"cmlt\", \"cmlx\", \"cmsc\", \"comm\", \"comx\", \"cpbe\", \"cpet\", \"cpgh\", \"cpjt\", \"cpms\", \"cppl\", \"cpsa\", \"cpsd\", \"cpsf\", \"cpsg\", \"cpsn\", \"cpsp\", \"cpss\", \"eall\", \"econ\", \"edci\", \"edcp\", \"edhd\", \"edhi\", \"edms\", \"edps\", \"edsp\", \"educ\", \"enae\", \"enbc\", \"ence\", \"eneb\", \"enee\", \"enes\", \"enfp\", \"engl\", \"engx\", \"enma\", \"enme\", \"ennu\", \"enre\", \"ensp\", \"enst\", \"epib\", \"fgsm\", \"fire\", \"fmsc\", \"fren\", \"gems\", \"geog\", \"geol\", \"germ\", \"gers\", \"grek\", \"gvpt\", \"hacs\", \"hdcc\", \"hebr\", \"heip\", \"hesi\", \"hesp\", \"hglo\", \"hhum\", \"hisp\", \"hist\", \"hisx\", \"hlsa\", \"hlsc\", \"hlth\", \"hnuh\", \"honr\", \"idea\", \"imdm\", \"immr\", \"inag\", \"inst\", \"isrl\", \"ital\", \"itax\", \"ivsp\", \"japn\", \"jour\", \"jwst\", \"knes\", \"kora\", \"lacs\", \"larc\", \"lasx\", \"latn\", \"lbsc\", \"lead\", \"lgbt\", \"lgbx\", \"ling\", \"math\", \"mees\", \"mieh\", \"mith\", \"mlaw\", \"mlsc\", \"mued\", \"muet\", \"musc\", \"musp\", \"navy\", \"neur\", \"nfsc\", \"peer\", \"pers\", \"phil\", \"phix\", \"phpe\", \"phpx\", \"phsc\", \"phys\", \"plcy\", \"plsc\", \"port\", \"psyc\", \"rdev\", \"rels\", \"russ\", \"slaa\", \"sllc\", \"sllx\", \"smlp\", \"socy\", \"span\", \"spax\", \"sphl\", \"stat\", \"surv\", \"tdps\", \"thet\", \"thex\", \"tlpl\", \"tltc\", \"umei\", \"univ\", \"ursp\", \"uslt\", \"weid\", \"wgss\", \"wmsx\"\n",
    "]\n",
    "baseURL = \"https://academiccatalog.umd.edu/undergraduate/approved-courses/\"\n",
    "urlList = []\n",
    "for dept in codeList:\n",
    "        urlList.append(baseURL+dept+\"/\")\n",
    "print(urlList)"
   ],
   "metadata": {
    "collapsed": false,
    "ExecuteTime": {
     "end_time": "2023-10-24T00:48:33.658791Z",
     "start_time": "2023-10-24T00:48:33.596310300Z"
    }
   }
  },
  {
   "cell_type": "code",
   "execution_count": 109,
   "outputs": [],
   "source": [
    "PickleFilePath = \"all_splits.p\""
   ],
   "metadata": {
    "collapsed": false,
    "ExecuteTime": {
     "end_time": "2023-10-24T00:48:33.658791Z",
     "start_time": "2023-10-24T00:48:33.607889300Z"
    }
   }
  },
  {
   "cell_type": "code",
   "execution_count": 111,
   "outputs": [
    {
     "name": "stderr",
     "output_type": "stream",
     "text": [
      "IOPub data rate exceeded.\n",
      "The Jupyter server will temporarily stop sending output\n",
      "to the client in order to avoid crashing it.\n",
      "To change this limit, set the config variable\n",
      "`--ServerApp.iopub_data_rate_limit`.\n",
      "\n",
      "Current values:\n",
      "ServerApp.iopub_data_rate_limit=1000000.0 (bytes/sec)\n",
      "ServerApp.rate_limit_window=3.0 (secs)\n",
      "\n"
     ]
    }
   ],
   "source": [
    "#Scraping and Loading Data\n",
    "if os.path.exists(PickleFilePath):\n",
    "        print(\"Loading data from pickle file\")\n",
    "        all_splits = pickle.load( open( PickleFilePath, \"rb\" ) )\n",
    "        print(\"loaded data\")\n",
    "else:\n",
    "        loader = WebBaseLoader(web_paths=urlList)\n",
    "        data = loader.load();\n",
    "        print(data)"
   ],
   "metadata": {
    "collapsed": false,
    "ExecuteTime": {
     "end_time": "2023-10-24T00:57:34.777403800Z",
     "start_time": "2023-10-24T00:50:14.437795200Z"
    }
   }
  },
  {
   "cell_type": "code",
   "execution_count": 112,
   "outputs": [],
   "source": [
    "if os.path.exists(PickleFilePath) == False:\n",
    "        text_splitter = RecursiveCharacterTextSplitter(chunk_size=500, chunk_overlap=0)\n",
    "        all_splits = text_splitter.split_documents(data)\n",
    "        pickle.dump(all_splits, open( \"all_splits.p\", \"wb\" ) )"
   ],
   "metadata": {
    "collapsed": false,
    "ExecuteTime": {
     "end_time": "2023-10-24T00:59:04.460576600Z",
     "start_time": "2023-10-24T00:59:02.443620200Z"
    }
   }
  },
  {
   "cell_type": "code",
   "execution_count": null,
   "outputs": [],
   "source": [],
   "metadata": {
    "collapsed": false,
    "ExecuteTime": {
     "start_time": "2023-10-24T00:49:29.782853Z"
    }
   }
  },
  {
   "cell_type": "code",
   "execution_count": null,
   "outputs": [],
   "source": [],
   "metadata": {
    "collapsed": false
   }
  },
  {
   "cell_type": "markdown",
   "source": [
    "Using vectorstore to store all of our docs"
   ],
   "metadata": {
    "collapsed": false
   }
  },
  {
   "cell_type": "code",
   "execution_count": 113,
   "outputs": [],
   "source": [
    "vectorstore = Chroma.from_documents(documents=all_splits, embedding=OpenAIEmbeddings(openai_api_key=KEY))\n",
    "retriever = vectorstore.as_retriever()\n",
    "# print(retriever)"
   ],
   "metadata": {
    "collapsed": false,
    "ExecuteTime": {
     "end_time": "2023-10-24T01:00:49.329431300Z",
     "start_time": "2023-10-24T00:59:08.958126100Z"
    }
   }
  },
  {
   "cell_type": "code",
   "execution_count": 114,
   "outputs": [
    {
     "name": "stdout",
     "output_type": "stream",
     "text": [
      "<class 'langchain.prompts.chat.ChatPromptTemplate'>\n",
      "input_variables=['context', 'question'] messages=[HumanMessagePromptTemplate(prompt=PromptTemplate(input_variables=['context', 'question'], template=\"You are an assistant for question-answering tasks. Use the following pieces of retrieved context to answer the question. If you don't know the answer, just say that you don't know. Use three sentences maximum and keep the answer concise.\\nQuestion: {question} \\nContext: {context} \\nAnswer:\"))]\n"
     ]
    }
   ],
   "source": [
    "#This is the prompt we give to OpenAI everytime we ask it a question\n",
    "rag_prompt = hub.pull(\"rlm/rag-prompt\")\n",
    "print(type(rag_prompt))\n",
    "print(rag_prompt)"
   ],
   "metadata": {
    "collapsed": false,
    "ExecuteTime": {
     "end_time": "2023-10-24T01:00:54.608962700Z",
     "start_time": "2023-10-24T01:00:53.379587800Z"
    }
   }
  },
  {
   "cell_type": "code",
   "execution_count": 115,
   "outputs": [],
   "source": [
    "rag_chain = (\n",
    "                {\"context\": retriever, \"question\": RunnablePassthrough()}\n",
    "                | rag_prompt\n",
    "                | llm\n",
    "        )"
   ],
   "metadata": {
    "collapsed": false,
    "ExecuteTime": {
     "end_time": "2023-10-24T01:00:56.950279Z",
     "start_time": "2023-10-24T01:00:56.928158100Z"
    }
   }
  },
  {
   "cell_type": "code",
   "execution_count": null,
   "outputs": [],
   "source": [],
   "metadata": {
    "collapsed": false
   }
  },
  {
   "cell_type": "code",
   "execution_count": null,
   "outputs": [],
   "source": [
    "#It will be to awnser most general questions but nothing too complext. Here are a list of sample questions\n",
    "Question = \"What courses will teach me about opening a startup?\"\n",
    "awns = rag_chain.invoke(Question)\n",
    "print(awns)"
   ],
   "metadata": {
    "collapsed": false
   }
  },
  {
   "cell_type": "code",
   "execution_count": 121,
   "outputs": [],
   "source": [
    "questionlist = [\"What courses will teach me about opening a startup?\", \"what courses will teach me about operating systems\",\n",
    "         \"What courses require Math240 as a prerequisite?\", \"What courses should I take to learn about plants?\",\n",
    "         \"what courses should I take to learn about finance?\"]"
   ],
   "metadata": {
    "collapsed": false,
    "ExecuteTime": {
     "end_time": "2023-10-24T01:06:14.963095800Z",
     "start_time": "2023-10-24T01:06:14.955315800Z"
    }
   }
  },
  {
   "cell_type": "code",
   "execution_count": 122,
   "outputs": [
    {
     "name": "stdout",
     "output_type": "stream",
     "text": [
      "Question: What courses will teach me about opening a startup?\n",
      "content='The courses that will teach you about opening a startup are \"ENES - Engineering Science\" and \"SMLP - Southern Management Leadership Program.\" These courses cover topics such as assessing the feasibility of a startup venture, applying best practices for planning and launching new companies, and discussing issues of importance to entrepreneurs.'\n",
      "------------------------------------\n",
      "Question: what courses will teach me about operating systems\n",
      "content='The Computer Systems course at the University of Maryland will teach you about operating systems.'\n",
      "------------------------------------\n",
      "Question: What courses require Math240 as a prerequisite?\n",
      "content='MATH341, MATH312, and MATH461 require MATH240 as a prerequisite.'\n",
      "------------------------------------\n",
      "Question: What courses should I take to learn about plants?\n",
      "content='You should consider taking the BSCI124 Plant Biology for Non-Science Students course or the INAG100 Introduction to Plant Science course to learn about plants.'\n",
      "------------------------------------\n",
      "Question: what courses should I take to learn about finance?\n",
      "content='You should consider taking courses such as Corporate Finance I and Private Equity to learn about finance. These courses cover financial concepts, techniques, and securities used in evaluating corporate decisions and financing arrangements. They aim to develop your ability to analyze financial decisions and introduce the language and structure of finance.'\n",
      "------------------------------------\n"
     ]
    }
   ],
   "source": [
    "for q in questionlist:\n",
    "        awns = rag_chain.invoke(q);\n",
    "        print(\"Question: \" + q)\n",
    "        print(awns)\n",
    "        print(\"------------------------------------\")\n"
   ],
   "metadata": {
    "collapsed": false,
    "ExecuteTime": {
     "end_time": "2023-10-24T01:06:36.395833800Z",
     "start_time": "2023-10-24T01:06:17.713025800Z"
    }
   }
  }
 ],
 "metadata": {
  "kernelspec": {
   "display_name": "Python 3 (ipykernel)",
   "language": "python",
   "name": "python3"
  },
  "language_info": {
   "codemirror_mode": {
    "name": "ipython",
    "version": 3
   },
   "file_extension": ".py",
   "mimetype": "text/x-python",
   "name": "python",
   "nbconvert_exporter": "python",
   "pygments_lexer": "ipython3",
   "version": "3.11.6"
  }
 },
 "nbformat": 4,
 "nbformat_minor": 4
}
